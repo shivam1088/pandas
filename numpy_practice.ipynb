{
 "cells": [
  {
   "cell_type": "code",
   "execution_count": 6,
   "id": "a7a61fbb-ba25-4b1b-8c78-af7532f439a1",
   "metadata": {},
   "outputs": [
    {
     "name": "stdout",
     "output_type": "stream",
     "text": [
      "8\n",
      "15\n",
      "24\n"
     ]
    }
   ],
   "source": [
    "# l1=[2,3,4]\n",
    "# l2=[4,5,6]\n",
    "# l=[]\n",
    "# for i in range(0,len(l1)):\n",
    "#     print(l1[i]*l2[i])\n",
    "# #     l.append(l1[i]*l2[i])\n",
    "# # print(l)"
   ]
  },
  {
   "cell_type": "code",
   "execution_count": null,
   "id": "51732637-7810-4fd4-87b0-91135de73a4d",
   "metadata": {},
   "outputs": [],
   "source": []
  },
  {
   "cell_type": "code",
   "execution_count": 10,
   "id": "5d519a42-e407-4748-aa07-a290a2e90831",
   "metadata": {},
   "outputs": [
    {
     "ename": "ModuleNotFoundError",
     "evalue": "No module named 'numpy'",
     "output_type": "error",
     "traceback": [
      "\u001b[0;31m---------------------------------------------------------------------------\u001b[0m",
      "\u001b[0;31mModuleNotFoundError\u001b[0m                       Traceback (most recent call last)",
      "Cell \u001b[0;32mIn[10], line 1\u001b[0m\n\u001b[0;32m----> 1\u001b[0m \u001b[38;5;28;01mimport\u001b[39;00m \u001b[38;5;21;01mnumpy\u001b[39;00m \u001b[38;5;28;01mas\u001b[39;00m \u001b[38;5;21;01mnp\u001b[39;00m\n\u001b[1;32m      2\u001b[0m arr\u001b[38;5;241m=\u001b[39mnp\u001b[38;5;241m.\u001b[39marray([\u001b[38;5;241m23\u001b[39m,\u001b[38;5;241m45\u001b[39m,\u001b[38;5;241m67\u001b[39m,\u001b[38;5;241m66\u001b[39m])\n\u001b[1;32m      3\u001b[0m \u001b[38;5;28mprint\u001b[39m(arr,\u001b[38;5;28mtype\u001b[39m(arr))\n",
      "\u001b[0;31mModuleNotFoundError\u001b[0m: No module named 'numpy'"
     ]
    }
   ],
   "source": [
    "import numpy as np\n",
    "arr=np.array([23,45,67,66])\n",
    "print(arr,type(arr))"
   ]
  },
  {
   "cell_type": "code",
   "execution_count": 8,
   "id": "632b2bd3-bb17-4f23-88bc-f2310d52d17d",
   "metadata": {},
   "outputs": [
    {
     "name": "stdout",
     "output_type": "stream",
     "text": [
      "Collecting numpy\n",
      "  Downloading numpy-1.24.4-cp38-cp38-manylinux_2_17_x86_64.manylinux2014_x86_64.whl (17.3 MB)\n",
      "\u001b[K     |████████████████████████████████| 17.3 MB 7.0 MB/s eta 0:00:01\n",
      "\u001b[?25hInstalling collected packages: numpy\n",
      "\u001b[33m  WARNING: The scripts f2py, f2py3 and f2py3.8 are installed in '/home/developer/.local/bin' which is not on PATH.\n",
      "  Consider adding this directory to PATH or, if you prefer to suppress this warning, use --no-warn-script-location.\u001b[0m\n",
      "Successfully installed numpy-1.24.4\n",
      "Note: you may need to restart the kernel to use updated packages.\n"
     ]
    }
   ],
   "source": [
    "pip install numpy"
   ]
  },
  {
   "cell_type": "code",
   "execution_count": 11,
   "id": "bbd2208b-e511-45d3-bb5e-b15b0a2433fa",
   "metadata": {},
   "outputs": [
    {
     "ename": "ModuleNotFoundError",
     "evalue": "No module named 'numpy'",
     "output_type": "error",
     "traceback": [
      "\u001b[0;31m---------------------------------------------------------------------------\u001b[0m",
      "\u001b[0;31mModuleNotFoundError\u001b[0m                       Traceback (most recent call last)",
      "Cell \u001b[0;32mIn[11], line 1\u001b[0m\n\u001b[0;32m----> 1\u001b[0m \u001b[38;5;28;01mimport\u001b[39;00m \u001b[38;5;21;01mnumpy\u001b[39;00m \u001b[38;5;28;01mas\u001b[39;00m \u001b[38;5;21;01mnp\u001b[39;00m\n",
      "\u001b[0;31mModuleNotFoundError\u001b[0m: No module named 'numpy'"
     ]
    }
   ],
   "source": [
    "import numpy as np"
   ]
  },
  {
   "cell_type": "code",
   "execution_count": 1,
   "id": "f3b50e3b-3c83-4811-8d7f-3d999b9c9bbe",
   "metadata": {},
   "outputs": [],
   "source": [
    "import numpy as np\n"
   ]
  },
  {
   "cell_type": "code",
   "execution_count": 4,
   "id": "d67bb2ee-a5b6-435a-8b2a-c14da87292d2",
   "metadata": {},
   "outputs": [
    {
     "name": "stdout",
     "output_type": "stream",
     "text": [
      "[1 2 3 4 5] <class 'numpy.ndarray'> 140201776587760 1\n"
     ]
    }
   ],
   "source": [
    "arr=np.array([1,2,3,4,5])\n",
    "print(arr,type(arr),id(arr),arr.ndim)"
   ]
  },
  {
   "cell_type": "code",
   "execution_count": 5,
   "id": "725204ac-336b-41dc-bfca-e6bc4305f948",
   "metadata": {},
   "outputs": [
    {
     "name": "stdout",
     "output_type": "stream",
     "text": [
      "[[[[[1 2 3 4 5]]]]] 5\n"
     ]
    }
   ],
   "source": [
    "arr=np.array([1,2,3,4,5],ndmin=5)\n",
    "print(arr,arr.ndim)"
   ]
  },
  {
   "cell_type": "code",
   "execution_count": 6,
   "id": "c4a28017-4655-4af7-9c0f-b83891bb4f50",
   "metadata": {},
   "outputs": [
    {
     "name": "stdout",
     "output_type": "stream",
     "text": [
      "1.24.4\n"
     ]
    }
   ],
   "source": [
    "print(np.__version__)\n"
   ]
  },
  {
   "cell_type": "code",
   "execution_count": 7,
   "id": "96acb7c1-3dc7-4045-9a7a-87aabf2babd3",
   "metadata": {},
   "outputs": [
    {
     "name": "stdout",
     "output_type": "stream",
     "text": [
      "[ 12  34   4 667  56] <class 'numpy.ndarray'>\n"
     ]
    }
   ],
   "source": [
    "arr=np.array([12,34,4,667,56])\n",
    "print(arr,type(arr))"
   ]
  },
  {
   "cell_type": "code",
   "execution_count": 11,
   "id": "789436c1-c82c-46d6-a814-162c33a06da8",
   "metadata": {},
   "outputs": [
    {
     "name": "stdout",
     "output_type": "stream",
     "text": [
      "34 <class 'numpy.ndarray'> 0 140201776589680\n"
     ]
    }
   ],
   "source": [
    "arr=np.array(34)\n",
    "print(arr,type(arr),arr.ndim,id(arr))"
   ]
  },
  {
   "cell_type": "code",
   "execution_count": 15,
   "id": "940a1a6f-7068-4234-8f96-43359c394cf0",
   "metadata": {},
   "outputs": [
    {
     "name": "stdout",
     "output_type": "stream",
     "text": [
      "[ 34  56  78  89 345] <class 'numpy.ndarray'> 140201776296368 1\n"
     ]
    }
   ],
   "source": [
    "arr=np.array([34,56,78,89,345])\n",
    "print(arr,type(arr),id(arr),arr.ndim)"
   ]
  },
  {
   "cell_type": "code",
   "execution_count": 17,
   "id": "b797eeea-c735-488c-a50e-0eb7d917d906",
   "metadata": {},
   "outputs": [
    {
     "name": "stdout",
     "output_type": "stream",
     "text": [
      "[[[ 1  2  3]\n",
      "  [23 45 67]]] <class 'numpy.ndarray'> 140201776298480 3\n"
     ]
    }
   ],
   "source": [
    "arr=np.array([[[1,2,3],[23,45,67]]])\n",
    "print(arr,type(arr),id(arr),arr.ndim)"
   ]
  },
  {
   "cell_type": "code",
   "execution_count": 23,
   "id": "2b756635-496c-4071-8b17-69a017e5c70f",
   "metadata": {},
   "outputs": [
    {
     "name": "stdout",
     "output_type": "stream",
     "text": [
      "68\n"
     ]
    }
   ],
   "source": [
    "arr=np.array([1,23,45])\n",
    "print(arr[1]+arr[-1])"
   ]
  },
  {
   "cell_type": "code",
   "execution_count": 27,
   "id": "87d2f288-1232-4717-b57c-285f3fa4f5ea",
   "metadata": {},
   "outputs": [
    {
     "name": "stdout",
     "output_type": "stream",
     "text": [
      "2\n"
     ]
    }
   ],
   "source": [
    "arr=np.array([[1,2,3],[34,56,78]])\n",
    "print(arr[0,1])"
   ]
  },
  {
   "cell_type": "code",
   "execution_count": 31,
   "id": "9f8a2759-9ebc-4c24-b10f-8b4249e10773",
   "metadata": {},
   "outputs": [
    {
     "name": "stdout",
     "output_type": "stream",
     "text": [
      "12\n"
     ]
    }
   ],
   "source": [
    "arr=np.array([[[1,2,3],[4,5,6],[9,8,7]]])\n",
    "print(arr[0,0,1]*arr[0,1,-1])"
   ]
  },
  {
   "cell_type": "code",
   "execution_count": 34,
   "id": "1af306f6-e89c-44b6-9f46-8a5359e01972",
   "metadata": {},
   "outputs": [
    {
     "name": "stdout",
     "output_type": "stream",
     "text": [
      "78\n"
     ]
    }
   ],
   "source": [
    "arr=np.array([[[1,2,3],[34,56,78],[54,7,6]]])\n",
    "print(arr[0,1,-1])"
   ]
  },
  {
   "cell_type": "code",
   "execution_count": 37,
   "id": "9ba99169-aee5-40d2-84eb-4649a5bbea23",
   "metadata": {},
   "outputs": [
    {
     "name": "stdout",
     "output_type": "stream",
     "text": [
      "[45 23  1]\n"
     ]
    }
   ],
   "source": [
    "arr=np.array([1,23,45])\n",
    "print(arr[::-1])"
   ]
  },
  {
   "cell_type": "code",
   "execution_count": 52,
   "id": "218321f3-ed66-4f01-bde4-3b8a48c29fd6",
   "metadata": {},
   "outputs": [
    {
     "name": "stdout",
     "output_type": "stream",
     "text": [
      "[2 3]\n",
      "78\n"
     ]
    }
   ],
   "source": [
    "arr=np.array([[1,2,3],[34,56,78]])\n",
    "print(arr[0,1:])\n",
    "print(arr[1,-1])"
   ]
  },
  {
   "cell_type": "code",
   "execution_count": 54,
   "id": "503e9b63-7618-4512-b660-0e610cfdbcd8",
   "metadata": {},
   "outputs": [
    {
     "name": "stdout",
     "output_type": "stream",
     "text": [
      "[7 6 5 4 3 2 1]\n"
     ]
    }
   ],
   "source": [
    "arr = np.array([1, 2, 3, 4, 5, 6, 7])\n",
    "print(arr[::-1])"
   ]
  },
  {
   "cell_type": "code",
   "execution_count": 57,
   "id": "ccff4115-7553-4ce5-ba8b-02908fd1e6d2",
   "metadata": {},
   "outputs": [
    {
     "name": "stdout",
     "output_type": "stream",
     "text": [
      "[2 4 6]\n"
     ]
    }
   ],
   "source": [
    "arr = np.array([1, 2, 3, 4, 5, 6, 7])\n",
    "print(arr[1:-1:2])"
   ]
  },
  {
   "cell_type": "code",
   "execution_count": 58,
   "id": "78d6f4c1-e429-4161-b2bd-eb3edddca3ed",
   "metadata": {},
   "outputs": [
    {
     "name": "stdout",
     "output_type": "stream",
     "text": [
      "[1 3 5 7]\n"
     ]
    }
   ],
   "source": [
    "arr = np.array([1, 2, 3, 4, 5, 6, 7])\n",
    "print(arr[::2])"
   ]
  },
  {
   "cell_type": "code",
   "execution_count": 62,
   "id": "3cdda753-7388-4a84-b58d-5babccf2ae00",
   "metadata": {},
   "outputs": [
    {
     "name": "stdout",
     "output_type": "stream",
     "text": [
      "[ 7  9 11 13 15]\n",
      "[2 3 4 5]\n"
     ]
    }
   ],
   "source": [
    "arr = np.array([[1, 2, 3, 4, 5], [6, 7, 8, 9, 10]])\n",
    "print(arr[0]+arr[1])\n",
    "print(arr[0,1:])"
   ]
  },
  {
   "cell_type": "code",
   "execution_count": 64,
   "id": "f1d68512-d0bb-4371-a03c-6da1d6e8acca",
   "metadata": {},
   "outputs": [
    {
     "name": "stdout",
     "output_type": "stream",
     "text": [
      "[3 8]\n"
     ]
    }
   ],
   "source": [
    "arr = np.array([[1, 2, 3, 4, 5], [6, 7, 8, 9, 10]])\n",
    "print(arr[0:2,2])"
   ]
  },
  {
   "cell_type": "code",
   "execution_count": 69,
   "id": "ca2a456f-8099-4377-8f44-b831f24e1586",
   "metadata": {},
   "outputs": [
    {
     "name": "stdout",
     "output_type": "stream",
     "text": [
      "[ 8  9 10] int64\n"
     ]
    }
   ],
   "source": [
    "arr = np.array([[1, 2, 3, 4, 5], [6, 7, 8, 9, 10]])\n",
    "print(arr[1,2:],arr.dtype)"
   ]
  },
  {
   "cell_type": "code",
   "execution_count": 70,
   "id": "5530daaf-ea9d-499b-b3b8-be9c82a1df9d",
   "metadata": {},
   "outputs": [
    {
     "name": "stdout",
     "output_type": "stream",
     "text": [
      "<U6\n"
     ]
    }
   ],
   "source": [
    "arr = np.array(['apple', 'banana', 'cherry'])\n",
    "print(arr.dtype)"
   ]
  },
  {
   "cell_type": "code",
   "execution_count": 73,
   "id": "c72af4d2-8c9e-4739-97e4-8496e6c732d4",
   "metadata": {},
   "outputs": [
    {
     "name": "stdout",
     "output_type": "stream",
     "text": [
      "[1 2 3 4] int32 1\n"
     ]
    }
   ],
   "source": [
    "arr=np.array([1,2,3,4],dtype='i4')\n",
    "print(arr,arr.dtype,arr.ndim)"
   ]
  },
  {
   "cell_type": "code",
   "execution_count": 77,
   "id": "a96d2f4a-d445-4dad-8d70-aea4aa3371f7",
   "metadata": {},
   "outputs": [
    {
     "name": "stdout",
     "output_type": "stream",
     "text": [
      "['a' '2' '3']\n"
     ]
    }
   ],
   "source": [
    "arr = np.array(['a', '2', '3'], dtype='U') \n",
    "print(arr)"
   ]
  },
  {
   "cell_type": "code",
   "execution_count": 89,
   "id": "0ea1375e-ec5e-4381-893a-efd9792e9a8f",
   "metadata": {},
   "outputs": [
    {
     "name": "stdout",
     "output_type": "stream",
     "text": [
      "[1 2 3]\n"
     ]
    }
   ],
   "source": [
    "arr = np.array([1.1, 2.1, 3.1])\n",
    "newarr=arr.astype(int)\n",
    "print(newarr)"
   ]
  },
  {
   "cell_type": "code",
   "execution_count": 91,
   "id": "ef1414fb-a452-430a-8326-dc00587cc57e",
   "metadata": {},
   "outputs": [
    {
     "name": "stdout",
     "output_type": "stream",
     "text": [
      "[ True False  True] bool\n"
     ]
    }
   ],
   "source": [
    "arr = np.array([1, 0, 3])\n",
    "newarr=arr.astype(bool)\n",
    "print(newarr,newarr.dtype)"
   ]
  },
  {
   "cell_type": "code",
   "execution_count": 92,
   "id": "bc4721cd-f3cc-4b62-a4a7-aca1d46e5f2a",
   "metadata": {},
   "outputs": [
    {
     "name": "stdout",
     "output_type": "stream",
     "text": [
      "[ 23  45  67 656] [3434   45   67  656]\n"
     ]
    }
   ],
   "source": [
    "arr=np.array([23,45,67,656])\n",
    "v=arr.copy()\n",
    "arr[0]=3434\n",
    "print(v,arr)"
   ]
  },
  {
   "cell_type": "code",
   "execution_count": 93,
   "id": "fe7d5e0c-825d-4d5f-94de-fbc5d856b473",
   "metadata": {},
   "outputs": [
    {
     "name": "stdout",
     "output_type": "stream",
     "text": [
      "[34  2  3  4  5  6] [34  2  3  4  5  6]\n"
     ]
    }
   ],
   "source": [
    "arr=np.array([1,2,3,4,5,6])\n",
    "x=arr.view()\n",
    "x[0]=34\n",
    "print(arr,x)"
   ]
  },
  {
   "cell_type": "code",
   "execution_count": 98,
   "id": "16c3bdb1-4259-426c-8307-a35f8066a391",
   "metadata": {},
   "outputs": [
    {
     "name": "stdout",
     "output_type": "stream",
     "text": [
      "(2, 4) 2\n"
     ]
    }
   ],
   "source": [
    "arr = np.array([[1, 2, 3, 4], [5, 6, 7, 8]])\n",
    "print(arr.shape,arr.ndim)"
   ]
  },
  {
   "cell_type": "code",
   "execution_count": 99,
   "id": "ad85ecdf-000f-4291-9d1b-aa7873c86709",
   "metadata": {},
   "outputs": [
    {
     "name": "stdout",
     "output_type": "stream",
     "text": [
      "[[[[[1 2 3 4]\n",
      "    [5 6 7 8]]]]] (1, 1, 1, 2, 4)\n"
     ]
    }
   ],
   "source": [
    "arr = np.array([[1, 2, 3, 4], [5, 6, 7, 8]],ndmin=5)\n",
    "print(arr,arr.shape)"
   ]
  },
  {
   "cell_type": "code",
   "execution_count": 101,
   "id": "4e06b91f-c6c3-4ef9-a075-5be49319a969",
   "metadata": {},
   "outputs": [
    {
     "name": "stdout",
     "output_type": "stream",
     "text": [
      "[[[ 1  2]\n",
      "  [ 3  4]\n",
      "  [ 5  6]]\n",
      "\n",
      " [[ 7  8]\n",
      "  [ 9 10]\n",
      "  [11 12]]]\n"
     ]
    }
   ],
   "source": [
    "arr = np.array([1, 2, 3, 4, 5, 6, 7, 8, 9, 10, 11, 12])\n",
    "newarr=arr.reshape(2,3,2)\n",
    "print(newarr)"
   ]
  },
  {
   "cell_type": "code",
   "execution_count": 104,
   "id": "6f832dc1-b816-46d8-8ab1-d156ece5bf45",
   "metadata": {},
   "outputs": [
    {
     "name": "stdout",
     "output_type": "stream",
     "text": [
      "[[[1 2]\n",
      "  [3 4]]\n",
      "\n",
      " [[5 6]\n",
      "  [7 8]]]\n"
     ]
    }
   ],
   "source": [
    "arr = np.array([1, 2, 3, 4, 5, 6, 7, 8])\n",
    "newarr=arr.reshape(2,2,-1)\n",
    "print(newarr)"
   ]
  },
  {
   "cell_type": "code",
   "execution_count": 105,
   "id": "6ba6899a-69d1-44c9-b474-07a0e8d85e7f",
   "metadata": {},
   "outputs": [
    {
     "name": "stdout",
     "output_type": "stream",
     "text": [
      "[1 2 3 4 5 6]\n"
     ]
    }
   ],
   "source": [
    "arr = np.array([[1,2,3],[4,5,6]])\n",
    "newarr=arr.reshape(-1)\n",
    "print(newarr)"
   ]
  },
  {
   "cell_type": "code",
   "execution_count": 106,
   "id": "64abd7ac-8aeb-4f62-9a1a-ec59f386ddcb",
   "metadata": {},
   "outputs": [
    {
     "name": "stdout",
     "output_type": "stream",
     "text": [
      "1\n",
      "2\n",
      "3\n",
      "34\n"
     ]
    }
   ],
   "source": [
    "arr=np.array([1,2,3,34])\n",
    "for i in arr:\n",
    "    print(i)"
   ]
  },
  {
   "cell_type": "code",
   "execution_count": 109,
   "id": "a9b74709-2769-43f0-91b5-d698b6d6fac3",
   "metadata": {},
   "outputs": [
    {
     "name": "stdout",
     "output_type": "stream",
     "text": [
      "1\n",
      "2\n",
      "3\n",
      "4\n",
      "5\n",
      "6\n"
     ]
    }
   ],
   "source": [
    "arr = np.array([[1, 2, 3], [4, 5, 6]])\n",
    "for i in arr:\n",
    "    for j in i:\n",
    "        print(j)"
   ]
  },
  {
   "cell_type": "code",
   "execution_count": 111,
   "id": "78055c7b-1c10-4de4-9371-bc022688d9a3",
   "metadata": {},
   "outputs": [
    {
     "name": "stdout",
     "output_type": "stream",
     "text": [
      "1 <class 'numpy.ndarray'>\n",
      "2 <class 'numpy.ndarray'>\n",
      "3 <class 'numpy.ndarray'>\n",
      "4 <class 'numpy.ndarray'>\n",
      "5 <class 'numpy.ndarray'>\n",
      "6 <class 'numpy.ndarray'>\n",
      "7 <class 'numpy.ndarray'>\n",
      "8 <class 'numpy.ndarray'>\n"
     ]
    }
   ],
   "source": [
    "arr = np.array([[[1, 2], [3, 4]], [[5, 6], [7, 8]]])\n",
    "for i in np.nditer(arr):\n",
    "    print(i,type(i))"
   ]
  },
  {
   "cell_type": "code",
   "execution_count": 122,
   "id": "c40fd30e-221e-4974-a6fc-91c11e3d8bd8",
   "metadata": {},
   "outputs": [
    {
     "name": "stdout",
     "output_type": "stream",
     "text": [
      "1\n",
      "2\n",
      "3\n"
     ]
    }
   ],
   "source": [
    "arr = np.array([1, 2, 3])\n",
    "for i in np.nditer(arr,flags=['buffered'],op_dtypes=['U']):\n",
    "    print(i)"
   ]
  },
  {
   "cell_type": "code",
   "execution_count": 124,
   "id": "0e9b53dd-0eaf-4299-8c70-7fae58bb2fe2",
   "metadata": {},
   "outputs": [
    {
     "name": "stdout",
     "output_type": "stream",
     "text": [
      "1\n",
      "3\n",
      "5\n",
      "7\n"
     ]
    }
   ],
   "source": [
    "arr = np.array([[1, 2, 3, 4], [5, 6, 7, 8]])\n",
    "for i in np.nditer(arr[:,::2]):\n",
    "    print(i)"
   ]
  },
  {
   "cell_type": "code",
   "execution_count": 128,
   "id": "1d36d6bb-2207-4dd3-9b8b-2946e234e3ca",
   "metadata": {},
   "outputs": [
    {
     "name": "stdout",
     "output_type": "stream",
     "text": [
      "(0, 0) 1\n",
      "(0, 1) 2\n",
      "(0, 2) 3\n",
      "(1, 0) 6\n",
      "(1, 1) 7\n",
      "(1, 2) 8\n"
     ]
    }
   ],
   "source": [
    "arr = np.array([[1, 2, 3],[6,7,8]])\n",
    "for i,j in np.ndenumerate(arr):\n",
    "    print(i,j)"
   ]
  },
  {
   "cell_type": "code",
   "execution_count": 133,
   "id": "f7eb661e-dd5c-4077-bd22-9f7af4ceedd7",
   "metadata": {},
   "outputs": [
    {
     "name": "stdout",
     "output_type": "stream",
     "text": [
      "[ 1  2  3 56  7  6]\n"
     ]
    }
   ],
   "source": [
    "arr=np.array([1,2,3])\n",
    "arr1=np.array([56,7,6])\n",
    "ar=np.concatenate((arr,arr1))\n",
    "print(ar)"
   ]
  },
  {
   "cell_type": "code",
   "execution_count": 136,
   "id": "da84db7b-26a4-4248-93e8-413693cdc936",
   "metadata": {},
   "outputs": [
    {
     "name": "stdout",
     "output_type": "stream",
     "text": [
      "5\n"
     ]
    }
   ],
   "source": [
    "arr=np.array([[[1,2,3],[4,5,6],[34,56,78]]])\n",
    "print(arr[0,0,0]+arr[0,1,0])"
   ]
  },
  {
   "cell_type": "code",
   "execution_count": 139,
   "id": "fa22e0c3-0e5c-4bd1-a853-d43318bf1aea",
   "metadata": {},
   "outputs": [
    {
     "name": "stdout",
     "output_type": "stream",
     "text": [
      "[[ 1  2  2  6]\n",
      " [ 4  3 56  7]]\n"
     ]
    }
   ],
   "source": [
    "arr=np.array([[1,2],[4,3]])\n",
    "ar1=np.array([[2,6],[56,7]])\n",
    "aa=np.concatenate((arr,ar1),axis=1)\n",
    "print(aa)"
   ]
  },
  {
   "cell_type": "code",
   "execution_count": 149,
   "id": "9931a4d4-9b79-4e0d-9cfd-a97026128dd8",
   "metadata": {},
   "outputs": [
    {
     "name": "stdout",
     "output_type": "stream",
     "text": [
      "[[1 2 3]\n",
      " [4 5 6]]\n"
     ]
    }
   ],
   "source": [
    "arr1=np.array([1,2,3])\n",
    "arr2=np.array([4,5,6])\n",
    "arr=np.vstack((arr1,arr2))\n",
    "print(arr)"
   ]
  },
  {
   "cell_type": "code",
   "execution_count": 150,
   "id": "6ae9bf0b-7ba9-4f4e-b55a-5e0860219a38",
   "metadata": {},
   "outputs": [
    {
     "name": "stdout",
     "output_type": "stream",
     "text": [
      "[array([1, 2]), array([3, 4]), array([5, 6])]\n"
     ]
    }
   ],
   "source": [
    "arr = np.array([1, 2, 3, 4, 5, 6])\n",
    "newarr=np.array_split(arr,3)\n",
    "print(newarr)"
   ]
  },
  {
   "cell_type": "code",
   "execution_count": 152,
   "id": "b5a780bb-b31e-48c2-8d6b-2dfa409e1bd4",
   "metadata": {},
   "outputs": [
    {
     "name": "stdout",
     "output_type": "stream",
     "text": [
      "[array([34, 56]), array([8, 4]), array([67, 45]), array([78,  3])]\n"
     ]
    }
   ],
   "source": [
    "arr = np.array([34,56,8,4,67,45,78,3])\n",
    "newarr=np.array_split(arr,4)\n",
    "print(newarr)"
   ]
  },
  {
   "cell_type": "code",
   "execution_count": 153,
   "id": "cc210ee7-bd1e-45f3-85d7-4b708587d8aa",
   "metadata": {},
   "outputs": [
    {
     "name": "stdout",
     "output_type": "stream",
     "text": [
      "[array([1, 2]), array([3, 4]), array([5, 6])]\n"
     ]
    }
   ],
   "source": [
    "arr = np.array([1, 2, 3, 4, 5, 6])\n",
    "newarr=np.array_split(arr,3)\n",
    "print(newarr)"
   ]
  },
  {
   "cell_type": "code",
   "execution_count": 154,
   "id": "cb79028c-2b5e-499b-bb1a-f3f6d5e9fd98",
   "metadata": {},
   "outputs": [
    {
     "name": "stdout",
     "output_type": "stream",
     "text": [
      "[array([[1, 2],\n",
      "       [3, 4]]), array([[5, 6],\n",
      "       [7, 8]]), array([[ 9, 10],\n",
      "       [11, 12]])]\n"
     ]
    }
   ],
   "source": [
    "arr = np.array([[1, 2], [3, 4], [5, 6], [7, 8], [9, 10], [11, 12]])\n",
    "newarr=np.array_split(arr,3)\n",
    "print(newarr)"
   ]
  },
  {
   "cell_type": "code",
   "execution_count": 155,
   "id": "426cd9d1-7e5d-4c8a-be9f-4dc0520584b8",
   "metadata": {},
   "outputs": [
    {
     "name": "stdout",
     "output_type": "stream",
     "text": [
      "[array([[ 1],\n",
      "       [ 4],\n",
      "       [ 7],\n",
      "       [10],\n",
      "       [13],\n",
      "       [16]]), array([[ 2],\n",
      "       [ 5],\n",
      "       [ 8],\n",
      "       [11],\n",
      "       [14],\n",
      "       [17]]), array([[ 3],\n",
      "       [ 6],\n",
      "       [ 9],\n",
      "       [12],\n",
      "       [15],\n",
      "       [18]])]\n"
     ]
    }
   ],
   "source": [
    "arr = np.array([[1, 2, 3], [4, 5, 6], [7, 8, 9], [10, 11, 12], [13, 14, 15], [16, 17, 18]])\n",
    "newarr=np.array_split(arr,3,axis=1)\n",
    "print(newarr)"
   ]
  },
  {
   "cell_type": "code",
   "execution_count": 159,
   "id": "c709ce11-5b2c-40d6-a591-65533cb2fa11",
   "metadata": {},
   "outputs": [
    {
     "name": "stdout",
     "output_type": "stream",
     "text": [
      "[array([[ 1],\n",
      "       [ 4],\n",
      "       [ 7],\n",
      "       [10],\n",
      "       [13],\n",
      "       [16]]), array([[ 2],\n",
      "       [ 5],\n",
      "       [ 8],\n",
      "       [11],\n",
      "       [14],\n",
      "       [17]]), array([[ 3],\n",
      "       [ 6],\n",
      "       [ 9],\n",
      "       [12],\n",
      "       [15],\n",
      "       [18]])]\n"
     ]
    }
   ],
   "source": [
    "\n",
    "arr = np.array([[1, 2, 3], [4, 5, 6], [7, 8, 9], [10, 11, 12], [13, 14, 15], [16, 17, 18]])\n",
    "newarr=np.hsplit(arr,3)\n",
    "print(newarr)"
   ]
  },
  {
   "cell_type": "code",
   "execution_count": 164,
   "id": "fa514550-de41-49d1-9d18-f6fe6e09924e",
   "metadata": {},
   "outputs": [
    {
     "name": "stdout",
     "output_type": "stream",
     "text": [
      "(array([1, 4, 5, 6, 8, 9]),)\n"
     ]
    }
   ],
   "source": [
    "arr=np.array([1,2,3,5,2,4,2,5,2,56])\n",
    "v=np.where(arr%2==0)\n",
    "print(v)"
   ]
  },
  {
   "cell_type": "code",
   "execution_count": 166,
   "id": "e5e651ee-2849-47e3-8991-45049052c1f8",
   "metadata": {},
   "outputs": [
    {
     "name": "stdout",
     "output_type": "stream",
     "text": [
      "(array([1, 4, 5, 6, 8, 9]),)\n"
     ]
    }
   ],
   "source": [
    "arr=np.array([1,2,3,5,2,4,2,5,2,56])\n",
    "a=np.where(arr%2==0)\n",
    "print(a)"
   ]
  },
  {
   "cell_type": "code",
   "execution_count": 171,
   "id": "57b4a0dd-65c7-40bf-a5b7-633611c5b9ba",
   "metadata": {},
   "outputs": [
    {
     "name": "stdout",
     "output_type": "stream",
     "text": [
      "3\n"
     ]
    }
   ],
   "source": [
    "arr=np.array([6,7,8,9])\n",
    "x=np.searchsorted(arr,9)\n",
    "print(x)"
   ]
  },
  {
   "cell_type": "code",
   "execution_count": 172,
   "id": "0702424d-57ab-42bd-ae12-60961eb93620",
   "metadata": {},
   "outputs": [
    {
     "name": "stdout",
     "output_type": "stream",
     "text": [
      "1\n"
     ]
    }
   ],
   "source": [
    "arr = np.array([1, 3, 5, 7])\n",
    "x=np.searchsorted(arr,3)\n",
    "print(x)"
   ]
  },
  {
   "cell_type": "code",
   "execution_count": 173,
   "id": "578ed981-eba4-43f7-9ecd-e15439db811b",
   "metadata": {},
   "outputs": [
    {
     "name": "stdout",
     "output_type": "stream",
     "text": [
      "[[2 3 4]\n",
      " [0 1 5]]\n"
     ]
    }
   ],
   "source": [
    "arr = np.array([[3, 2, 4], [5, 0, 1]])\n",
    "v=np.sort(arr)\n",
    "print(v)"
   ]
  },
  {
   "cell_type": "code",
   "execution_count": 175,
   "id": "904b7932-8f77-4a10-bbba-4b2f059330da",
   "metadata": {},
   "outputs": [
    {
     "name": "stdout",
     "output_type": "stream",
     "text": [
      "[41 43]\n"
     ]
    }
   ],
   "source": [
    "arr = np.array([41, 42, 43, 44])\n",
    "x=[True,False,True,False]\n",
    "newarr=arr[x]\n",
    "print(newarr)"
   ]
  },
  {
   "cell_type": "code",
   "execution_count": 177,
   "id": "c93278b2-8e51-4e3d-bbc1-858893278250",
   "metadata": {},
   "outputs": [
    {
     "name": "stdout",
     "output_type": "stream",
     "text": [
      "[43 44]\n",
      "[False, False, True, True]\n"
     ]
    }
   ],
   "source": [
    "arr=np.array([41,42,43,44])\n",
    "lst=[]\n",
    "for i in arr:\n",
    "    if i>42:\n",
    "        lst.append(True)\n",
    "    else:\n",
    "        lst.append(False)\n",
    "newarr=arr[lst]\n",
    "print(newarr)\n",
    "\n",
    "print(lst)"
   ]
  },
  {
   "cell_type": "code",
   "execution_count": 178,
   "id": "5b70da67-57b9-47d8-92a1-c0e63e8156e6",
   "metadata": {},
   "outputs": [
    {
     "name": "stdout",
     "output_type": "stream",
     "text": [
      "[False False  True  True]\n",
      "[43 44]\n"
     ]
    }
   ],
   "source": [
    "arr = np.array([41, 42, 43, 44])\n",
    "filter_arr=arr>42\n",
    "newar=arr[filter_arr]\n",
    "print(filter_arr)\n",
    "print(newar)"
   ]
  },
  {
   "cell_type": "code",
   "execution_count": 179,
   "id": "2dfd3e7a-3e15-4fd3-a7f8-92e1e9442cc0",
   "metadata": {},
   "outputs": [
    {
     "name": "stdout",
     "output_type": "stream",
     "text": [
      "[2 4 6] [False  True False  True False  True False]\n"
     ]
    }
   ],
   "source": [
    "arr = np.array([1, 2, 3, 4, 5, 6, 7])\n",
    "lst=arr%2==0\n",
    "ac=arr[lst]\n",
    "print(ac,lst)"
   ]
  },
  {
   "cell_type": "code",
   "execution_count": 194,
   "id": "1577942e-c7d6-4310-9766-4b0507360257",
   "metadata": {},
   "outputs": [
    {
     "name": "stdout",
     "output_type": "stream",
     "text": [
      "[26 23 17 22 21]\n"
     ]
    }
   ],
   "source": [
    "from numpy import random\n",
    "x=random.randint(10,30,5)\n",
    "print(x)"
   ]
  },
  {
   "cell_type": "code",
   "execution_count": 200,
   "id": "9c5dce5b-f95b-4ed6-85ca-e8a088022450",
   "metadata": {},
   "outputs": [
    {
     "name": "stdout",
     "output_type": "stream",
     "text": [
      "[[[0.49776715 0.17058961 0.93042375]\n",
      "  [0.81099014 0.37882178 0.9311386 ]\n",
      "  [0.79920246 0.77840237 0.46142011]\n",
      "  [0.52934651 0.9762183  0.86702632]]]\n"
     ]
    }
   ],
   "source": [
    "x=random.rand(1,4,3)\n",
    "print(x)"
   ]
  },
  {
   "cell_type": "code",
   "execution_count": 201,
   "id": "6767d8ab-b462-494f-a194-84f64c1494cc",
   "metadata": {},
   "outputs": [
    {
     "name": "stdout",
     "output_type": "stream",
     "text": [
      "[69 14 99  4 44]\n"
     ]
    }
   ],
   "source": [
    "x=random.randint(100,size=5)\n",
    "print(x)"
   ]
  },
  {
   "cell_type": "code",
   "execution_count": 209,
   "id": "80200952-3150-4349-8e68-cdb1691f4d25",
   "metadata": {},
   "outputs": [
    {
     "name": "stdout",
     "output_type": "stream",
     "text": [
      "[[49 38 76 66 11 79 62 39]\n",
      " [97 30  1 60  7 30 82 38]]\n"
     ]
    }
   ],
   "source": [
    "l=np.array([1,2,3,4,5,6,7,8,9])\n",
    "v=random.randint(100,size=(2,8))\n",
    "print(v)"
   ]
  },
  {
   "cell_type": "code",
   "execution_count": 212,
   "id": "235b6b5c-bc4c-4ec4-be96-b77a18d9d27b",
   "metadata": {},
   "outputs": [
    {
     "name": "stdout",
     "output_type": "stream",
     "text": [
      "45\n"
     ]
    }
   ],
   "source": [
    "x=random.choice([23,45,67,89])\n",
    "print(x)"
   ]
  },
  {
   "cell_type": "code",
   "execution_count": 214,
   "id": "129944d3-13ad-4a21-b8ae-71b85923d754",
   "metadata": {},
   "outputs": [
    {
     "name": "stdout",
     "output_type": "stream",
     "text": [
      "[5 3 7 5 5 3 3 7 7 7]\n"
     ]
    }
   ],
   "source": [
    "x=random.choice([3,5,7,9],p=[0.1,0.3,0.6,0.0],size=(10))\n",
    "print(x)"
   ]
  },
  {
   "cell_type": "code",
   "execution_count": 215,
   "id": "9c0e3f02-1a5c-4d13-926d-dd4481d39d78",
   "metadata": {},
   "outputs": [
    {
     "name": "stdout",
     "output_type": "stream",
     "text": [
      "[3 1 2 4 5]\n"
     ]
    }
   ],
   "source": [
    "# from numpy import random\n",
    "arr = np.array([1, 2, 3, 4, 5])\n",
    "random.shuffle(arr)\n",
    "print(arr)"
   ]
  },
  {
   "cell_type": "code",
   "execution_count": 216,
   "id": "29acf610-a4bf-4aec-8a7e-5710e73dd411",
   "metadata": {},
   "outputs": [
    {
     "name": "stdout",
     "output_type": "stream",
     "text": [
      "[3 6 1 2 5]\n"
     ]
    }
   ],
   "source": [
    "arr=np.array([1,2,3,5,6])\n",
    "print(random.permutation(arr))"
   ]
  },
  {
   "cell_type": "code",
   "execution_count": 1,
   "id": "fbc3ef3f-75b0-4c6e-8cc8-523afdee8e2e",
   "metadata": {},
   "outputs": [],
   "source": [
    "import numpy as np"
   ]
  },
  {
   "cell_type": "code",
   "execution_count": 7,
   "id": "734ef081-bb91-41da-b3d6-8dc6024d4901",
   "metadata": {},
   "outputs": [
    {
     "name": "stdout",
     "output_type": "stream",
     "text": [
      "[[ 0  5]\n",
      " [10 15]\n",
      " [20 25]\n",
      " [30 35]\n",
      " [40 45]]\n"
     ]
    }
   ],
   "source": [
    "f=np.arange(0,50,5)\n",
    "s=f.reshape(5,2)\n",
    "print(s)"
   ]
  },
  {
   "cell_type": "code",
   "execution_count": 9,
   "id": "54e56c0c-1a52-483b-b12c-005f20a6ee74",
   "metadata": {},
   "outputs": [
    {
     "name": "stdout",
     "output_type": "stream",
     "text": [
      "[0.   1.25 2.5  3.75 5.  ]\n"
     ]
    }
   ],
   "source": [
    "g=np.linspace(0,5,5)\n",
    "print(g)"
   ]
  },
  {
   "cell_type": "code",
   "execution_count": 10,
   "id": "773899e4-ffa5-41a2-9820-dae6accb3537",
   "metadata": {},
   "outputs": [
    {
     "name": "stdout",
     "output_type": "stream",
     "text": [
      "[[ 1  2  3]\n",
      " [45  6 78]\n",
      " [22 33 44]\n",
      " [ 6 78 89]]\n"
     ]
    }
   ],
   "source": [
    "arr=np.array([[1,2,3],[45,6,78],[22,33,44],[6,78,89]])\n",
    "newarr=arr.reshape(4,3)\n",
    "print(newarr)"
   ]
  },
  {
   "cell_type": "code",
   "execution_count": 20,
   "id": "de161d81-bb12-4671-98bd-ceec36233fe8",
   "metadata": {},
   "outputs": [
    {
     "name": "stdout",
     "output_type": "stream",
     "text": [
      "0\n"
     ]
    }
   ],
   "source": [
    "newarr1=newarr.argmin()\n",
    "print(newarr1)"
   ]
  },
  {
   "cell_type": "code",
   "execution_count": 1,
   "id": "793d0c77-9efc-4ca6-904a-af52163d3f0c",
   "metadata": {},
   "outputs": [],
   "source": [
    "import numpy as np"
   ]
  },
  {
   "cell_type": "code",
   "execution_count": 5,
   "id": "b9c8931e-a8eb-451e-bcbf-5663fd6b1ca8",
   "metadata": {},
   "outputs": [
    {
     "name": "stdout",
     "output_type": "stream",
     "text": [
      "[1 2 3 4 5] int64 1 (5,)\n"
     ]
    }
   ],
   "source": [
    "var = np.array([1,2,3,4,5])\n",
    "print(var,var.dtype,var.ndim,var.shape)"
   ]
  },
  {
   "cell_type": "code",
   "execution_count": 13,
   "id": "37050c92-62eb-4590-8c9c-4e1dfba0ae65",
   "metadata": {},
   "outputs": [
    {
     "name": "stdout",
     "output_type": "stream",
     "text": [
      "33\n"
     ]
    }
   ],
   "source": [
    "a=78\n",
    "b=45\n",
    "v=np.subtract(a,b)\n",
    "print(v)"
   ]
  },
  {
   "cell_type": "code",
   "execution_count": 1,
   "id": "7c24e8d3-a630-4aa5-b225-3d6c7a831dbc",
   "metadata": {},
   "outputs": [],
   "source": [
    "import numpy as np"
   ]
  },
  {
   "cell_type": "code",
   "execution_count": 2,
   "id": "dbee1488-d1e5-49a3-b68d-3df101ae99a9",
   "metadata": {},
   "outputs": [
    {
     "name": "stdout",
     "output_type": "stream",
     "text": [
      "[[1 2 3]\n",
      " [4 5 6]\n",
      " [7 8 9]]\n"
     ]
    }
   ],
   "source": [
    "arr=np.arange(1,10)\n",
    "v=arr.reshape(3,3)\n",
    "print(v)"
   ]
  },
  {
   "cell_type": "code",
   "execution_count": 3,
   "id": "75ccad46-2899-492c-9a11-23c319164405",
   "metadata": {},
   "outputs": [
    {
     "name": "stdout",
     "output_type": "stream",
     "text": [
      "[[1 4 7]\n",
      " [2 5 8]\n",
      " [3 6 9]]\n"
     ]
    }
   ],
   "source": [
    "c=v.transpose()\n",
    "print(c)"
   ]
  },
  {
   "cell_type": "code",
   "execution_count": 18,
   "id": "b3e8249b-d697-481e-a00b-7a50bb8cbed9",
   "metadata": {},
   "outputs": [
    {
     "name": "stdout",
     "output_type": "stream",
     "text": [
      "[[0.55923184 0.29187107 0.41379863 0.18639415 0.0939455 ]\n",
      " [0.24090713 0.36660223 0.39996415 0.68062381 0.29721169]\n",
      " [0.67226535 0.87580708 0.54243621 0.42796934 0.33323647]\n",
      " [0.58642313 0.40594645 0.95109415 0.46064284 0.84985445]\n",
      " [0.58008797 0.26468004 0.8869594  0.84888944 0.04487839]\n",
      " [0.51227347 0.26693331 0.12413084 0.37781279 0.16573121]\n",
      " [0.91045234 0.49966281 0.84851192 0.58039492 0.84931126]\n",
      " [0.26023151 0.08376534 0.41931488 0.37948224 0.69393722]\n",
      " [0.91737581 0.53245388 0.49436194 0.48918563 0.94477305]\n",
      " [0.43183197 0.32675086 0.54501498 0.61744591 0.66665919]]\n"
     ]
    }
   ],
   "source": [
    "import random\n",
    "v=np.random.ranf([10,5])\n",
    "print(v)"
   ]
  },
  {
   "cell_type": "code",
   "execution_count": 19,
   "id": "83095d1d-87cd-4fd7-b192-afb43cd55a89",
   "metadata": {},
   "outputs": [
    {
     "name": "stdout",
     "output_type": "stream",
     "text": [
      "[35 58 81 93 28 51] [-33 -54 -75 -85 -18 -39] [ 34 112 234 356 115 270] [34 28 26 22  4  7] [0 0 0 1 3 3]\n"
     ]
    }
   ],
   "source": [
    "a=np.array([1,2,3,4,5,6])\n",
    "b=np.array([34,56,78,89,23,45])\n",
    "v=a+b\n",
    "v1=a-b\n",
    "v2=a*b\n",
    "v3=b//a\n",
    "v4=b%a\n",
    "print(v,v1,v2,v3,v4)"
   ]
  },
  {
   "cell_type": "code",
   "execution_count": 35,
   "id": "cb08dfe6-fa7a-48e9-a44a-2bb2530eb51d",
   "metadata": {},
   "outputs": [
    {
     "name": "stdout",
     "output_type": "stream",
     "text": [
      "7\n"
     ]
    }
   ],
   "source": [
    "import random\n",
    "n=random.randrange(8)\n",
    "print(n)"
   ]
  },
  {
   "cell_type": "code",
   "execution_count": 36,
   "id": "4f2132b2-8fe6-44dd-8016-647f409ee081",
   "metadata": {},
   "outputs": [
    {
     "name": "stdout",
     "output_type": "stream",
     "text": [
      "1.24.4\n"
     ]
    }
   ],
   "source": [
    "print(np.__version__)"
   ]
  },
  {
   "cell_type": "code",
   "execution_count": null,
   "id": "3db8b2af-f38b-4270-8e67-ae5172be43ed",
   "metadata": {},
   "outputs": [],
   "source": [
    "arr=np.array([1,2,3,4,5])\n",
    "prin"
   ]
  },
  {
   "cell_type": "code",
   "execution_count": 3,
   "id": "04622b72-f5a3-4fc5-abc6-8d2d6acd7f57",
   "metadata": {},
   "outputs": [
    {
     "name": "stdout",
     "output_type": "stream",
     "text": [
      "[[[[[23]]]]] <class 'numpy.ndarray'> 5 (1, 1, 1, 1, 1)\n"
     ]
    }
   ],
   "source": [
    "import numpy as np\n",
    "arr=np.array(23,ndmin=5)\n",
    "print(arr,type(arr),arr.ndim,arr.shape)"
   ]
  },
  {
   "cell_type": "code",
   "execution_count": 6,
   "id": "25519268-2d2d-46f4-b1b1-7f45b9c483d0",
   "metadata": {},
   "outputs": [
    {
     "name": "stdout",
     "output_type": "stream",
     "text": [
      "9 <class 'numpy.int64'>\n"
     ]
    }
   ],
   "source": [
    "arr=np.array([23,45,6,89,0,45,45,2,3])\n",
    "a=arr[2]+arr[-1]\n",
    "print(a,type(a))"
   ]
  },
  {
   "cell_type": "code",
   "execution_count": 9,
   "id": "5134a7f0-e8a6-44a1-9ecb-b7e830081eca",
   "metadata": {},
   "outputs": [
    {
     "ename": "TypeError",
     "evalue": "'numpy.ndarray' object is not callable",
     "output_type": "error",
     "traceback": [
      "\u001b[0;31m---------------------------------------------------------------------------\u001b[0m",
      "\u001b[0;31mTypeError\u001b[0m                                 Traceback (most recent call last)",
      "Cell \u001b[0;32mIn[9], line 3\u001b[0m\n\u001b[1;32m      1\u001b[0m \u001b[38;5;28;01mimport\u001b[39;00m \u001b[38;5;21;01mnumpy\u001b[39;00m \u001b[38;5;28;01mas\u001b[39;00m \u001b[38;5;21;01mnp\u001b[39;00m\n\u001b[1;32m      2\u001b[0m arr\u001b[38;5;241m=\u001b[39mnp\u001b[38;5;241m.\u001b[39marray([[\u001b[38;5;241m1\u001b[39m,\u001b[38;5;241m2\u001b[39m,\u001b[38;5;241m3\u001b[39m,\u001b[38;5;241m4\u001b[39m,\u001b[38;5;241m5\u001b[39m,\u001b[38;5;241m6\u001b[39m],[\u001b[38;5;241m34\u001b[39m,\u001b[38;5;241m56\u001b[39m,\u001b[38;5;241m78\u001b[39m,\u001b[38;5;241m90\u001b[39m,\u001b[38;5;241m34\u001b[39m,\u001b[38;5;241m56\u001b[39m]])\n\u001b[0;32m----> 3\u001b[0m v\u001b[38;5;241m=\u001b[39m \u001b[43marr\u001b[49m\u001b[43m(\u001b[49m\u001b[38;5;241;43m0\u001b[39;49m\u001b[43m,\u001b[49m\u001b[38;5;241;43m2\u001b[39;49m\u001b[43m)\u001b[49m\n",
      "\u001b[0;31mTypeError\u001b[0m: 'numpy.ndarray' object is not callable"
     ]
    }
   ],
   "source": [
    "import numpy as np\n",
    "arr=np.array([[1,2,3,4,5,6],[34,56,78,90,34,56]])\n",
    "v= arr(0,2)\n"
   ]
  },
  {
   "cell_type": "code",
   "execution_count": 15,
   "id": "81d7064d-21a0-43f8-8467-f882abeebac6",
   "metadata": {},
   "outputs": [
    {
     "name": "stdout",
     "output_type": "stream",
     "text": [
      "[56 34 90 78 56 34]\n"
     ]
    }
   ],
   "source": [
    "import numpy as np\n",
    "arr=np.array([[1,2,3,4,5,6],[34,56,78,90,34,56]])\n",
    "print(arr[1,::-1])"
   ]
  },
  {
   "cell_type": "code",
   "execution_count": 19,
   "id": "946b4a7d-a77f-47d5-bd1c-4be0e99c8fba",
   "metadata": {},
   "outputs": [
    {
     "name": "stdout",
     "output_type": "stream",
     "text": [
      "2\n"
     ]
    }
   ],
   "source": [
    "arr=np.array([[[1,2,3],[4,5,6],[34,56,78],[90,34,56]]])\n",
    "print(arr[0,0,1])"
   ]
  },
  {
   "cell_type": "code",
   "execution_count": 23,
   "id": "f93da89b-7740-4cb7-8930-0dcabd1f3255",
   "metadata": {},
   "outputs": [
    {
     "name": "stdout",
     "output_type": "stream",
     "text": [
      "6 78\n"
     ]
    }
   ],
   "source": [
    "print(arr[0,1,2],arr[0,2,2])"
   ]
  },
  {
   "cell_type": "code",
   "execution_count": 35,
   "id": "52743695-4315-464f-a2d7-75d811016571",
   "metadata": {},
   "outputs": [
    {
     "name": "stdout",
     "output_type": "stream",
     "text": [
      "[b'12' b'34' b'56' b'78' b'3' b'4' b'8' b'547' b'45' b'7' b'34'] <class 'numpy.ndarray'>\n"
     ]
    }
   ],
   "source": [
    "a=np.array([12,34,56,78,3,4,8,547,45,7,34],dtype='S')\n",
    "print(a,type(a))"
   ]
  },
  {
   "cell_type": "code",
   "execution_count": 38,
   "id": "eabe0116-3119-4f5c-928a-f771983314dc",
   "metadata": {},
   "outputs": [
    {
     "name": "stdout",
     "output_type": "stream",
     "text": [
      "<U6 <class 'numpy.ndarray'> ['apple' 'banana' 'cherry']\n"
     ]
    }
   ],
   "source": [
    "arr = np.array(['apple', 'banana', 'cherry'])\n",
    "print(arr.dtype,type(arr),arr)"
   ]
  },
  {
   "cell_type": "code",
   "execution_count": 43,
   "id": "60917eb2-d8a4-4f57-a2b4-6d5f5644072c",
   "metadata": {},
   "outputs": [
    {
     "name": "stdout",
     "output_type": "stream",
     "text": [
      "[23 45 67 34  6  7  3  7] [ 23  45  67  34   6   7   3 345]\n"
     ]
    }
   ],
   "source": [
    "arr=np.array([23,45,67,34,6,7,3,7])\n",
    "v=arr.copy()\n",
    "arr[-1]=345\n",
    "print(v,arr)"
   ]
  },
  {
   "cell_type": "code",
   "execution_count": 44,
   "id": "13e04906-4b90-44a4-9ea3-4cfcfae7709f",
   "metadata": {},
   "outputs": [
    {
     "name": "stdout",
     "output_type": "stream",
     "text": [
      "[   23    45    67 75657     6     7     3     7] [   23    45    67 75657     6     7     3     7]\n"
     ]
    }
   ],
   "source": [
    "arr=np.array([23,45,67,34,6,7,3,7])\n",
    "v=arr.view()\n",
    "arr[3]=75657\n",
    "print(arr,v)"
   ]
  },
  {
   "cell_type": "code",
   "execution_count": 45,
   "id": "b176c495-6e40-4de9-9281-af85ada5eeae",
   "metadata": {},
   "outputs": [
    {
     "name": "stdout",
     "output_type": "stream",
     "text": [
      "23\n",
      "45\n",
      "67\n",
      "75657\n",
      "6\n",
      "7\n",
      "3\n",
      "7\n"
     ]
    }
   ],
   "source": [
    "for i in arr:\n",
    "    print(i)"
   ]
  },
  {
   "cell_type": "code",
   "execution_count": 50,
   "id": "02e4adff-01b9-467d-97c6-866684961a1d",
   "metadata": {},
   "outputs": [
    {
     "name": "stdout",
     "output_type": "stream",
     "text": [
      "1\n",
      "2\n",
      "3\n",
      "4\n",
      "5\n",
      "6\n"
     ]
    }
   ],
   "source": [
    "arr = np.array([[1, 2, 3], [4, 5, 6]])\n",
    "for i in arr:\n",
    "    for j in i:\n",
    "        print(j)"
   ]
  },
  {
   "cell_type": "code",
   "execution_count": 56,
   "id": "45dc1111-5b77-41ca-9be1-4538075000de",
   "metadata": {},
   "outputs": [
    {
     "name": "stdout",
     "output_type": "stream",
     "text": [
      "[[ 1  2  3 23 45 67]\n",
      " [ 3  4  5 33  4  4]\n",
      " [45 67 88 45 67 89]]\n"
     ]
    }
   ],
   "source": [
    "a=np.array([[1,2,3],[3,4,5],[45,67,88]])\n",
    "c=np.array([[23,45,67],[33,4,4],[45,67,89]])\n",
    "vv=np.concatenate((a,c),axis=1)\n",
    "print(vv)"
   ]
  },
  {
   "cell_type": "code",
   "execution_count": 65,
   "id": "e8091562-7fdc-4ccd-9115-169aa20a1043",
   "metadata": {},
   "outputs": [
    {
     "name": "stdout",
     "output_type": "stream",
     "text": [
      "[[[ 1 34]\n",
      "  [ 2 56]\n",
      "  [ 3 78]]]\n"
     ]
    }
   ],
   "source": [
    "arr=np.array([1,2,3])\n",
    "arr2=np.array([34,56,78])\n",
    "a=np.dstack((arr,arr2))\n",
    "print(a)"
   ]
  },
  {
   "cell_type": "code",
   "execution_count": 69,
   "id": "8fae2c59-8481-4446-886c-f8d2d2c0718e",
   "metadata": {},
   "outputs": [
    {
     "name": "stdout",
     "output_type": "stream",
     "text": [
      "[[ 1  2  3 23 45 67]\n",
      " [ 3  4  5 33  4  4]\n",
      " [45 67 88 45 67 89]]\n"
     ]
    }
   ],
   "source": [
    "a=np.array([23,45,67,34,6,33,12,5,23])\n",
    "v=np.array_split(a,3,axis=0)\n",
    "print(vv)"
   ]
  },
  {
   "cell_type": "code",
   "execution_count": 76,
   "id": "2f9b4cf0-2edc-42ec-80a4-173f8e4748ee",
   "metadata": {},
   "outputs": [
    {
     "name": "stdout",
     "output_type": "stream",
     "text": [
      "[array([[1, 2, 3],\n",
      "       [4, 5, 6]]), array([[ 7,  8,  9],\n",
      "       [10, 11, 12]]), array([[13, 14, 15],\n",
      "       [16, 17, 18]])]\n"
     ]
    }
   ],
   "source": [
    "arr = np.array([[1, 2, 3], [4, 5, 6], [7, 8, 9], [10, 11, 12], [13, 14, 15], [16, 17, 18]])\n",
    "nn=np.vsplit(arr,3)\n",
    "print(nn)"
   ]
  },
  {
   "cell_type": "code",
   "execution_count": 90,
   "id": "713c6c79-a073-4be2-b906-60a5e7370f6c",
   "metadata": {},
   "outputs": [
    {
     "name": "stdout",
     "output_type": "stream",
     "text": [
      "[1 3 2]\n"
     ]
    }
   ],
   "source": [
    "arr = np.array([1, 2, 3, 4, 5, 4, 4])\n",
    "x=np.searchsorted(arr,[2,4,3])\n",
    "print(x)"
   ]
  },
  {
   "cell_type": "code",
   "execution_count": 87,
   "id": "80caa0e7-b307-4ea2-b11e-4b1285c84da2",
   "metadata": {},
   "outputs": [],
   "source": [
    "arr = np.array([3, 2, 0, 1])"
   ]
  },
  {
   "cell_type": "code",
   "execution_count": 88,
   "id": "6a8611db-8427-48f9-ac02-27eeba222f54",
   "metadata": {},
   "outputs": [
    {
     "name": "stdout",
     "output_type": "stream",
     "text": [
      "[3 2 0 1]\n"
     ]
    }
   ],
   "source": [
    "print(arr)"
   ]
  },
  {
   "cell_type": "code",
   "execution_count": 89,
   "id": "ee1ebd27-7d4c-418b-a931-7bcb3c9969d3",
   "metadata": {},
   "outputs": [
    {
     "name": "stdout",
     "output_type": "stream",
     "text": [
      "[0 1 2 3]\n"
     ]
    }
   ],
   "source": [
    "arr = np.array([3, 2, 0, 1])\n",
    "v=np.sort(arr)\n",
    "print(v)"
   ]
  },
  {
   "cell_type": "code",
   "execution_count": 92,
   "id": "76886b4e-8544-4d45-8773-b4634f254bf3",
   "metadata": {},
   "outputs": [
    {
     "name": "stdout",
     "output_type": "stream",
     "text": [
      "[67 45 23 45 78]\n"
     ]
    }
   ],
   "source": [
    "import random\n",
    "arr=np.array([23,45,67,45,78])\n",
    "random.shuffle(arr)\n",
    "print(arr)"
   ]
  },
  {
   "cell_type": "code",
   "execution_count": 94,
   "id": "cd65b801-4086-4b61-99a0-cc87e21b01b5",
   "metadata": {},
   "outputs": [
    {
     "name": "stdout",
     "output_type": "stream",
     "text": [
      "[2 4 1 3 6 5]\n"
     ]
    }
   ],
   "source": [
    "from numpy import random\n",
    "import numpy as np\n",
    "arr=np.array([1,2,3,4,5,6])\n",
    "print(random.permutation(arr))"
   ]
  },
  {
   "cell_type": "code",
   "execution_count": 95,
   "id": "c7409d8e-670c-4c6d-888c-7b96ac537a85",
   "metadata": {},
   "outputs": [
    {
     "ename": "ModuleNotFoundError",
     "evalue": "No module named 'pandas'",
     "output_type": "error",
     "traceback": [
      "\u001b[0;31m---------------------------------------------------------------------------\u001b[0m",
      "\u001b[0;31mModuleNotFoundError\u001b[0m                       Traceback (most recent call last)",
      "Cell \u001b[0;32mIn[95], line 1\u001b[0m\n\u001b[0;32m----> 1\u001b[0m \u001b[38;5;28;01mimport\u001b[39;00m \u001b[38;5;21;01mpandas\u001b[39;00m \u001b[38;5;28;01mas\u001b[39;00m \u001b[38;5;21;01mpd\u001b[39;00m\n\u001b[1;32m      2\u001b[0m data\u001b[38;5;241m=\u001b[39m{\u001b[38;5;124m'\u001b[39m\u001b[38;5;124mcar\u001b[39m\u001b[38;5;124m'\u001b[39m:[\u001b[38;5;124m'\u001b[39m\u001b[38;5;124mbmw\u001b[39m\u001b[38;5;124m'\u001b[39m,\u001b[38;5;124m'\u001b[39m\u001b[38;5;124mvolvo\u001b[39m\u001b[38;5;124m'\u001b[39m,\u001b[38;5;124m'\u001b[39m\u001b[38;5;124mford\u001b[39m\u001b[38;5;124m'\u001b[39m],\u001b[38;5;124m'\u001b[39m\u001b[38;5;124mpassing\u001b[39m\u001b[38;5;124m'\u001b[39m:[\u001b[38;5;241m3\u001b[39m,\u001b[38;5;241m7\u001b[39m,\u001b[38;5;241m2\u001b[39m]}\n\u001b[1;32m      3\u001b[0m vv\u001b[38;5;241m=\u001b[39mpd\u001b[38;5;241m.\u001b[39mdataframe(data)\n",
      "\u001b[0;31mModuleNotFoundError\u001b[0m: No module named 'pandas'"
     ]
    }
   ],
   "source": [
    "import pandas as pd\n",
    "data={'car':['bmw','volvo','ford'],'passing':[3,7,2]}\n",
    "vv=pd.dataframe(data)\n",
    "print(vv)"
   ]
  },
  {
   "cell_type": "code",
   "execution_count": 96,
   "id": "666265ba-9612-45a8-a0e5-c086618cae4e",
   "metadata": {},
   "outputs": [
    {
     "name": "stdout",
     "output_type": "stream",
     "text": [
      "Collecting pandas\n",
      "  Downloading pandas-2.0.3-cp38-cp38-manylinux_2_17_x86_64.manylinux2014_x86_64.whl (12.4 MB)\n",
      "\u001b[K     |████████████████████████████████| 12.4 MB 330 kB/s eta 0:00:011\n",
      "\u001b[?25hCollecting pytz>=2020.1\n",
      "  Downloading pytz-2024.1-py2.py3-none-any.whl (505 kB)\n",
      "\u001b[K     |████████████████████████████████| 505 kB 457 kB/s eta 0:00:01\n",
      "\u001b[?25hCollecting tzdata>=2022.1\n",
      "  Downloading tzdata-2024.1-py2.py3-none-any.whl (345 kB)\n",
      "\u001b[K     |████████████████████████████████| 345 kB 441 kB/s eta 0:00:01\n",
      "\u001b[?25hRequirement already satisfied: numpy>=1.20.3; python_version < \"3.10\" in /home/developer/.local/lib/python3.8/site-packages (from pandas) (1.24.4)\n",
      "Requirement already satisfied: python-dateutil>=2.8.2 in /usr/local/lib/python3.8/dist-packages (from pandas) (2.9.0.post0)\n",
      "Requirement already satisfied: six>=1.5 in /usr/lib/python3/dist-packages (from python-dateutil>=2.8.2->pandas) (1.14.0)\n",
      "Installing collected packages: pytz, tzdata, pandas\n",
      "Successfully installed pandas-2.0.3 pytz-2024.1 tzdata-2024.1\n",
      "Note: you may need to restart the kernel to use updated packages.\n"
     ]
    }
   ],
   "source": [
    "pip install pandas\n"
   ]
  },
  {
   "cell_type": "code",
   "execution_count": 101,
   "id": "cd824983-ab56-4b71-9171-887cd83e368c",
   "metadata": {},
   "outputs": [
    {
     "name": "stdout",
     "output_type": "stream",
     "text": [
      "      car  passing\n",
      "23    bmw        3\n",
      "45  volvo        7\n",
      "67   ford        2\n"
     ]
    }
   ],
   "source": [
    "import pandas as pd\n",
    "data={'car':['bmw','volvo','ford'],'passing':[3,7,2]}\n",
    "vv=pd.DataFrame(data,index=[23,45,67])\n",
    "print(vv)"
   ]
  },
  {
   "cell_type": "code",
   "execution_count": 104,
   "id": "43b7dc9b-a98d-4063-9289-ecde0c4539a9",
   "metadata": {},
   "outputs": [
    {
     "name": "stdout",
     "output_type": "stream",
     "text": [
      "3     23\n",
      "4     45\n",
      "5     67\n",
      "6     78\n",
      "56    55\n",
      "dtype: int64\n"
     ]
    }
   ],
   "source": [
    "a=[23,45,67,78,55]\n",
    "v=pd.Series(a,index=[3,4,5,6,56])\n",
    "print(v)"
   ]
  },
  {
   "cell_type": "code",
   "execution_count": 105,
   "id": "7a074e9f-ea54-49eb-b5db-814b170cf708",
   "metadata": {},
   "outputs": [
    {
     "name": "stdout",
     "output_type": "stream",
     "text": [
      "day1    420\n",
      "day2    380\n",
      "day3    390\n",
      "dtype: int64\n"
     ]
    }
   ],
   "source": [
    "calories = {\"day1\": 420, \"day2\": 380, \"day3\": 390}\n",
    "mv=pd.Series(calories)\n",
    "print(mv)"
   ]
  },
  {
   "cell_type": "code",
   "execution_count": 106,
   "id": "210eb0a4-81e2-4393-9794-2101de6d0b0f",
   "metadata": {},
   "outputs": [
    {
     "name": "stdout",
     "output_type": "stream",
     "text": [
      "   calories  duration\n",
      "0        34        45\n",
      "1        56        67\n",
      "2        68        78\n"
     ]
    }
   ],
   "source": [
    "data={'calories':[34,56,68],'duration':[45,67,78]}\n",
    "mv=pd.DataFrame(data)\n",
    "print(mv)"
   ]
  },
  {
   "cell_type": "code",
   "execution_count": 107,
   "id": "a14e19b2-511e-4832-92f0-fdbb29c2f177",
   "metadata": {},
   "outputs": [
    {
     "data": {
      "text/html": [
       "<div>\n",
       "<style scoped>\n",
       "    .dataframe tbody tr th:only-of-type {\n",
       "        vertical-align: middle;\n",
       "    }\n",
       "\n",
       "    .dataframe tbody tr th {\n",
       "        vertical-align: top;\n",
       "    }\n",
       "\n",
       "    .dataframe thead th {\n",
       "        text-align: right;\n",
       "    }\n",
       "</style>\n",
       "<table border=\"1\" class=\"dataframe\">\n",
       "  <thead>\n",
       "    <tr style=\"text-align: right;\">\n",
       "      <th></th>\n",
       "      <th>calories</th>\n",
       "      <th>duration</th>\n",
       "    </tr>\n",
       "  </thead>\n",
       "  <tbody>\n",
       "    <tr>\n",
       "      <th>0</th>\n",
       "      <td>34</td>\n",
       "      <td>45</td>\n",
       "    </tr>\n",
       "    <tr>\n",
       "      <th>1</th>\n",
       "      <td>56</td>\n",
       "      <td>67</td>\n",
       "    </tr>\n",
       "    <tr>\n",
       "      <th>2</th>\n",
       "      <td>68</td>\n",
       "      <td>78</td>\n",
       "    </tr>\n",
       "  </tbody>\n",
       "</table>\n",
       "</div>"
      ],
      "text/plain": [
       "   calories  duration\n",
       "0        34        45\n",
       "1        56        67\n",
       "2        68        78"
      ]
     },
     "execution_count": 107,
     "metadata": {},
     "output_type": "execute_result"
    }
   ],
   "source": [
    "mv"
   ]
  },
  {
   "cell_type": "code",
   "execution_count": 111,
   "id": "23a312ba-c444-4088-98be-00bf3010ac4a",
   "metadata": {},
   "outputs": [
    {
     "name": "stdout",
     "output_type": "stream",
     "text": [
      "calories    56\n",
      "duration    67\n",
      "Name: 1, dtype: int64\n"
     ]
    }
   ],
   "source": [
    "print(mv.loc[1])"
   ]
  },
  {
   "cell_type": "code",
   "execution_count": 113,
   "id": "94c42fff-c515-4c54-b0c1-fafa715a03c5",
   "metadata": {},
   "outputs": [
    {
     "name": "stdout",
     "output_type": "stream",
     "text": [
      "   calories  duration\n",
      "0        34        45\n",
      "1        56        67\n"
     ]
    }
   ],
   "source": [
    "print(mv.loc[[0,1]])"
   ]
  },
  {
   "cell_type": "code",
   "execution_count": 114,
   "id": "2c37b651-ccae-49f3-b5da-2aa679fb0021",
   "metadata": {},
   "outputs": [
    {
     "data": {
      "text/html": [
       "<div>\n",
       "<style scoped>\n",
       "    .dataframe tbody tr th:only-of-type {\n",
       "        vertical-align: middle;\n",
       "    }\n",
       "\n",
       "    .dataframe tbody tr th {\n",
       "        vertical-align: top;\n",
       "    }\n",
       "\n",
       "    .dataframe thead th {\n",
       "        text-align: right;\n",
       "    }\n",
       "</style>\n",
       "<table border=\"1\" class=\"dataframe\">\n",
       "  <thead>\n",
       "    <tr style=\"text-align: right;\">\n",
       "      <th></th>\n",
       "      <th>calories</th>\n",
       "      <th>duration</th>\n",
       "    </tr>\n",
       "  </thead>\n",
       "  <tbody>\n",
       "    <tr>\n",
       "      <th>0</th>\n",
       "      <td>34</td>\n",
       "      <td>45</td>\n",
       "    </tr>\n",
       "    <tr>\n",
       "      <th>1</th>\n",
       "      <td>56</td>\n",
       "      <td>67</td>\n",
       "    </tr>\n",
       "    <tr>\n",
       "      <th>2</th>\n",
       "      <td>68</td>\n",
       "      <td>78</td>\n",
       "    </tr>\n",
       "  </tbody>\n",
       "</table>\n",
       "</div>"
      ],
      "text/plain": [
       "   calories  duration\n",
       "0        34        45\n",
       "1        56        67\n",
       "2        68        78"
      ]
     },
     "execution_count": 114,
     "metadata": {},
     "output_type": "execute_result"
    }
   ],
   "source": [
    "mv\n"
   ]
  },
  {
   "cell_type": "code",
   "execution_count": 115,
   "id": "639694a1-f480-45b0-94cb-0ba19bc04bad",
   "metadata": {},
   "outputs": [
    {
     "name": "stdout",
     "output_type": "stream",
     "text": [
      "calories    34\n",
      "duration    45\n",
      "Name: 0, dtype: int64\n"
     ]
    }
   ],
   "source": [
    "print(mv.loc[0])"
   ]
  },
  {
   "cell_type": "code",
   "execution_count": null,
   "id": "5274fc52-3c66-4341-bb55-e9a09b303d30",
   "metadata": {},
   "outputs": [],
   "source": []
  }
 ],
 "metadata": {
  "kernelspec": {
   "display_name": "Python 3 (ipykernel)",
   "language": "python",
   "name": "python3"
  },
  "language_info": {
   "codemirror_mode": {
    "name": "ipython",
    "version": 3
   },
   "file_extension": ".py",
   "mimetype": "text/x-python",
   "name": "python",
   "nbconvert_exporter": "python",
   "pygments_lexer": "ipython3",
   "version": "3.8.10"
  }
 },
 "nbformat": 4,
 "nbformat_minor": 5
}
